{
  "nbformat": 4,
  "nbformat_minor": 0,
  "metadata": {
    "colab": {
      "provenance": [],
      "authorship_tag": "ABX9TyMj1Xs76IVr96mPuTdfr/nx",
      "include_colab_link": true
    },
    "kernelspec": {
      "name": "python3",
      "display_name": "Python 3"
    },
    "language_info": {
      "name": "python"
    }
  },
  "cells": [
    {
      "cell_type": "markdown",
      "metadata": {
        "id": "view-in-github",
        "colab_type": "text"
      },
      "source": [
        "<a href=\"https://colab.research.google.com/github/Georgiiliwe8pcr/10---hw/blob/main/Untitled1.ipynb\" target=\"_parent\"><img src=\"https://colab.research.google.com/assets/colab-badge.svg\" alt=\"Open In Colab\"/></a>"
      ]
    },
    {
      "cell_type": "code",
      "execution_count": 1,
      "metadata": {
        "colab": {
          "base_uri": "https://localhost:8080/"
        },
        "id": "w2qx4SzAXpsz",
        "outputId": "0ad3250e-b112-4d6a-ff2d-bab6fc664104"
      },
      "outputs": [
        {
          "output_type": "stream",
          "name": "stdout",
          "text": [
            "Collecting scikit-surprise\n",
            "  Downloading scikit_surprise-1.1.4.tar.gz (154 kB)\n",
            "\u001b[2K     \u001b[90m━━━━━━━━━━━━━━━━━━━━━━━━━━━━━━━━━━━━━━━━\u001b[0m \u001b[32m154.4/154.4 kB\u001b[0m \u001b[31m2.2 MB/s\u001b[0m eta \u001b[36m0:00:00\u001b[0m\n",
            "\u001b[?25h  Installing build dependencies ... \u001b[?25l\u001b[?25hdone\n",
            "  Getting requirements to build wheel ... \u001b[?25l\u001b[?25hdone\n",
            "  Preparing metadata (pyproject.toml) ... \u001b[?25l\u001b[?25hdone\n",
            "Requirement already satisfied: joblib>=1.2.0 in /usr/local/lib/python3.10/dist-packages (from scikit-surprise) (1.4.2)\n",
            "Requirement already satisfied: numpy>=1.19.5 in /usr/local/lib/python3.10/dist-packages (from scikit-surprise) (1.26.4)\n",
            "Requirement already satisfied: scipy>=1.6.0 in /usr/local/lib/python3.10/dist-packages (from scikit-surprise) (1.13.1)\n",
            "Building wheels for collected packages: scikit-surprise\n",
            "  Building wheel for scikit-surprise (pyproject.toml) ... \u001b[?25l\u001b[?25hdone\n",
            "  Created wheel for scikit-surprise: filename=scikit_surprise-1.1.4-cp310-cp310-linux_x86_64.whl size=2357273 sha256=a79b7cbf01dcd07dded60d37256e09449919c661c31ee75ffd4271419f9b6e7c\n",
            "  Stored in directory: /root/.cache/pip/wheels/4b/3f/df/6acbf0a40397d9bf3ff97f582cc22fb9ce66adde75bc71fd54\n",
            "Successfully built scikit-surprise\n",
            "Installing collected packages: scikit-surprise\n",
            "Successfully installed scikit-surprise-1.1.4\n"
          ]
        }
      ],
      "source": [
        "!pip install scikit-surprise"
      ]
    },
    {
      "cell_type": "code",
      "source": [
        "import numpy as np\n",
        "from surprise import Dataset, Reader\n",
        "from surprise.model_selection import cross_validate, GridSearchCV\n",
        "from surprise import SVD, SVDpp, NMF\n",
        "\n",
        "# Завантаження датасету MovieLens\n",
        "# Використовуємо вбудований датасет movielens-100k\n",
        "data = Dataset.load_builtin('ml-100k')\n",
        "\n",
        "# Вибір моделі та підбір параметрів\n",
        "# 1. Модель SVD\n",
        "param_grid_svd = {\n",
        "    'n_factors': [50, 100, 150],\n",
        "    'n_epochs': [20, 30, 50],\n",
        "    'lr_all': [0.002, 0.005],\n",
        "    'reg_all': [0.02, 0.1]\n",
        "}\n",
        "gs_svd = GridSearchCV(SVD, param_grid_svd, measures=['rmse', 'mae'], cv=5, n_jobs=-1)\n",
        "gs_svd.fit(data)\n",
        "\n",
        "# Оптимальні параметри для SVD\n",
        "best_params_svd = gs_svd.best_params['rmse']\n",
        "print(\"Best SVD params:\", best_params_svd)\n",
        "\n",
        "# 2. Модель SVD++\n",
        "param_grid_svdpp = {\n",
        "    'n_factors': [50, 100],\n",
        "    'n_epochs': [20, 30],\n",
        "    'lr_all': [0.002, 0.005],\n",
        "    'reg_all': [0.02, 0.1]\n",
        "}\n",
        "gs_svdpp = GridSearchCV(SVDpp, param_grid_svdpp, measures=['rmse', 'mae'], cv=5, n_jobs=-1)\n",
        "gs_svdpp.fit(data)\n",
        "\n",
        "# Оптимальні параметри для SVD++\n",
        "best_params_svdpp = gs_svdpp.best_params['rmse']\n",
        "print(\"Best SVD++ params:\", best_params_svdpp)\n",
        "\n",
        "# 3. Модель NMF\n",
        "param_grid_nmf = {\n",
        "    'n_factors': [15, 30, 50],\n",
        "    'n_epochs': [20, 30],\n",
        "    'reg_pu': [0.06, 0.1],\n",
        "    'reg_qi': [0.06, 0.1]\n",
        "}\n",
        "gs_nmf = GridSearchCV(NMF, param_grid_nmf, measures=['rmse', 'mae'], cv=5, n_jobs=-1)\n",
        "gs_nmf.fit(data)\n",
        "\n",
        "# Оптимальні параметри для NMF\n",
        "best_params_nmf = gs_nmf.best_params['rmse']\n",
        "print(\"Best NMF params:\", best_params_nmf)\n",
        "\n",
        "# Вибір оптимального алгоритму\n",
        "print(\"SVD best RMSE:\", gs_svd.best_score['rmse'])\n",
        "print(\"SVD++ best RMSE:\", gs_svdpp.best_score['rmse'])\n",
        "print(\"NMF best RMSE:\", gs_nmf.best_score['rmse'])"
      ],
      "metadata": {
        "id": "4ipAM2XLY3c5"
      },
      "execution_count": null,
      "outputs": []
    },
    {
      "cell_type": "markdown",
      "source": [
        "**SVD**: Часто демонструє найкращі результати для простих завдань.\n",
        "\n",
        "\n",
        "**SVD++:** Краще, якщо у вас є додаткові дані про зв’язки між користувачами і фільмами (implicit feedback).\n",
        "\n",
        "**NMF**: Може бути корисною для специфічних випадків, але іноді менш точною."
      ],
      "metadata": {
        "id": "F_p9_DiBZTLs"
      }
    }
  ]
}